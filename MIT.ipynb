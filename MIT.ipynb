{
 "cells": [
  {
   "cell_type": "markdown",
   "id": "0fe817ce",
   "metadata": {},
   "source": [
    "# MIT Activity Notebook\n",
    "\n",
    "## Objective\n",
    "\n",
    "The objective of this activity is to demonstrate your understanding of Python functions, Git version control, and how to manage a GitHub repository using both local and cloud environments."
   ]
  },
  {
   "cell_type": "markdown",
   "id": "20be848f",
   "metadata": {},
   "source": [
    "## Task Overview\n",
    "\n",
    "1. Clone the GitHub repository to your local computer.\n",
    "2. Edit the notebook file to correct any syntax or markdown issues.\n",
    "3. Commit and push your changes to GitHub.\n",
    "4. Make the repository public for review."
   ]
  },
  {
   "cell_type": "markdown",
   "id": "04e2b58f",
   "metadata": {},
   "source": [
    "## Key Concepts\n",
    "\n",
    "- **Functions**: Reusable blocks of code used to perform a specific task.\n",
    "- **Git**: A distributed version control system that tracks changes in code.\n",
    "- **GitHub**: A cloud-based hosting service for Git repositories."
   ]
  },
  {
   "cell_type": "markdown",
   "id": "23370f54",
   "metadata": {},
   "source": [
    "## Example Python Code\n",
    "\n",
    "```python\n",
    "def greet(name):\n",
    "    return f\"Hello, {name}!\"\n",
    "\n",
    "print(greet(\"Victoria\"))\n",
    "```\n",
    "\n",
    "This function takes a name as input and returns a greeting message."
   ]
  },
  {
   "cell_type": "markdown",
   "id": "8f847a53",
   "metadata": {},
   "source": [
    "## Git Commands Used\n",
    "\n",
    "```bash\n",
    "git init\n",
    "git add .\n",
    "git commit -m \"Initial commit\"\n",
    "git remote add origin git@github.com:victoriamanu3/PCDE-Activity-9.1.git\n",
    "git push -u origin main\n",
    "```"
   ]
  },
  {
   "cell_type": "markdown",
   "id": "aa694a60",
   "metadata": {},
   "source": [
    "## Summary\n",
    "\n",
    "In this notebook, we corrected formatting errors, structured markdown properly, and included examples to help demonstrate the key concepts of version control and Python programming."
   ]
  },
  {
   "cell_type": "markdown",
   "id": "f629ea05",
   "metadata": {},
   "source": [
    "## Resources\n",
    "\n",
    "- [GitHub Docs](https://docs.github.com)\n",
    "- [Python Docs](https://docs.python.org/3/)\n",
    "- [Markdown Guide](https://www.markdownguide.org)"
   ]
  }
 ],
 "metadata": {},
 "nbformat": 4,
 "nbformat_minor": 5
}
